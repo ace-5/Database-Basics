{
 "cells": [
  {
   "cell_type": "code",
   "execution_count": 21,
   "id": "adfe4985",
   "metadata": {},
   "outputs": [],
   "source": [
    "import pandas as pd\n",
    "import psycopg2"
   ]
  },
  {
   "cell_type": "code",
   "execution_count": 22,
   "id": "642faa40",
   "metadata": {},
   "outputs": [],
   "source": [
    "conn = psycopg2.connect(\"host=127.0.0.1 user=postgres password=zoot\")\n",
    "cur = conn.cursor()\n",
    "conn.set_session(autocommit=True)"
   ]
  },
  {
   "cell_type": "code",
   "execution_count": 23,
   "id": "0bbac1bd",
   "metadata": {},
   "outputs": [],
   "source": [
    "cur.execute(\"CREATE DATABASE world_cup\")"
   ]
  },
  {
   "cell_type": "code",
   "execution_count": 24,
   "id": "50984f39",
   "metadata": {},
   "outputs": [],
   "source": [
    "cur.close()\n",
    "conn.close()"
   ]
  },
  {
   "cell_type": "code",
   "execution_count": 25,
   "id": "e474e97b",
   "metadata": {},
   "outputs": [],
   "source": [
    "conn = psycopg2.connect(\"host=127.0.0.1 user=postgres password=zoot dbname=world_cup\")\n",
    "cur = conn.cursor()\n",
    "conn.set_session(autocommit=True)"
   ]
  },
  {
   "cell_type": "code",
   "execution_count": 26,
   "id": "e1039c63",
   "metadata": {},
   "outputs": [],
   "source": [
    "cur.execute(\"CREATE TABLE IF NOT EXISTS attendance( \\\n",
    "    year_and_host varchar,\\\n",
    "    total_attendance varchar, \\\n",
    "    matches varchar, \\\n",
    "    highest_attendance varchar, \\\n",
    "    vs varchar, \\\n",
    "    stage varchar)\")\n",
    "\n",
    "cur.execute(\"CREATE TABLE IF NOT EXISTS award( \\\n",
    "    year_and_host varchar, \\\n",
    "    golden_boot varchar, \\\n",
    "    goal int)\")\n",
    "\n",
    "cur.execute(\"CREATE TABLE IF NOT EXISTS finals( \\\n",
    "    year_and_host varchar,\\\n",
    "    champion varchar, \\\n",
    "    score_final varchar, \\\n",
    "    runnerup varchar, \\\n",
    "    third varchar, \\\n",
    "    score_3rdplace varchar, \\\n",
    "    fourth varchar)\")"
   ]
  },
  {
   "cell_type": "code",
   "execution_count": 27,
   "id": "0c50ff26",
   "metadata": {},
   "outputs": [],
   "source": [
    "df_attendance = pd.read_csv(\"./data/FIFA World Cup Attendance.csv\")\n",
    "df_attendance[\"year_and_hosts\"] = df_attendance[['Year', 'Hosts']].agg(' '.join, axis=1)\n",
    "df_attendance.drop(columns=['Year', 'Hosts', 'Unnamed: 0', 'Average_Attendance', 'Venue'], inplace=True)"
   ]
  },
  {
   "cell_type": "code",
   "execution_count": 28,
   "id": "51c289ed",
   "metadata": {},
   "outputs": [],
   "source": [
    "df_award = pd.read_csv('./data/FIFA World Cup Award.csv')\n",
    "df_award_clean = df_award[['World _Cup', 'Golden _Boot', 'Goals']]"
   ]
  },
  {
   "cell_type": "code",
   "execution_count": 29,
   "id": "d39c4cb5",
   "metadata": {},
   "outputs": [],
   "source": [
    "df_finals = pd.read_csv('./data/List of FIFA World Cup finals.csv')\n",
    "df_finals['Year'] = df_finals['Year'].astype(str)\n",
    "df_finals['year_and_host'] = df_finals[['Year', 'Host']].agg(' '.join, axis=1)\n",
    "df_finals.drop(columns=['No. _ofteams', 'Unnamed: 0', 'Year', 'Host'], inplace=True)"
   ]
  },
  {
   "cell_type": "code",
   "execution_count": 30,
   "id": "6bb085c3",
   "metadata": {},
   "outputs": [],
   "source": [
    "attendance_table_insert = (\"\"\"INSERT INTO attendance(\n",
    "    total_attendance,\n",
    "    matches,\n",
    "    highest_attendance,\n",
    "    vs,\n",
    "    year_and_host)\n",
    "    VALUES (%s, %s, %s, %s, %s)\n",
    "\"\"\")\n",
    "\n",
    "award_table_insert = (\"\"\"\n",
    "INSERT INTO award(\n",
    "    year_and_host,\n",
    "    golden_boot,\n",
    "    goal\n",
    ")\n",
    "VALUES(%s, %s, %s)\n",
    "\"\"\")\n",
    "\n",
    "finals_table_insert = (\"\"\"\n",
    "INSERT INTO finals(\n",
    "    champion,\n",
    "    score_final,\n",
    "    runnerup,\n",
    "    third,\n",
    "    score_3rdplace,\n",
    "    fourth,\n",
    "    year_and_host\n",
    ")\n",
    "VALUES (%s, %s, %s, %s, %s, %s, %s)\n",
    "\"\"\")"
   ]
  },
  {
   "cell_type": "code",
   "execution_count": 31,
   "id": "65ca9aec",
   "metadata": {},
   "outputs": [],
   "source": [
    "for i, row in df_attendance.iterrows():\n",
    "    cur.execute(attendance_table_insert, row)"
   ]
  },
  {
   "cell_type": "code",
   "execution_count": 32,
   "id": "b2d68c47",
   "metadata": {},
   "outputs": [],
   "source": [
    "for i, row in df_award_clean.iterrows():\n",
    "    cur.execute(award_table_insert, row)"
   ]
  },
  {
   "cell_type": "code",
   "execution_count": 33,
   "id": "802c81bd",
   "metadata": {},
   "outputs": [],
   "source": [
    "for i, row in df_finals.iterrows():\n",
    "    cur.execute(finals_table_insert, row)"
   ]
  },
  {
   "cell_type": "code",
   "execution_count": 34,
   "id": "57e66853",
   "metadata": {},
   "outputs": [],
   "source": [
    "cur.close()\n",
    "conn.close()"
   ]
  }
 ],
 "metadata": {
  "kernelspec": {
   "display_name": "Python 3 (ipykernel)",
   "language": "python",
   "name": "python3"
  },
  "language_info": {
   "codemirror_mode": {
    "name": "ipython",
    "version": 3
   },
   "file_extension": ".py",
   "mimetype": "text/x-python",
   "name": "python",
   "nbconvert_exporter": "python",
   "pygments_lexer": "ipython3",
   "version": "3.10.9"
  }
 },
 "nbformat": 4,
 "nbformat_minor": 5
}
